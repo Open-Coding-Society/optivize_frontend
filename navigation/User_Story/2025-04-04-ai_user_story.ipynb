{
 "cells": [
  {
   "cell_type": "markdown",
   "metadata": {},
   "source": [
    "---\n",
    "layout: post\n",
    "title: AI User Story\n",
    "description:  AI Chat Bot\n",
    "type: issues \n",
    "comments: true\n",
    "---"
   ]
  }
 ],
 "metadata": {
  "language_info": {
   "name": "python"
  }
 },
 "nbformat": 4,
 "nbformat_minor": 2
}
